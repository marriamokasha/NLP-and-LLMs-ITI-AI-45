{
 "cells": [
  {
   "cell_type": "code",
   "execution_count": 1,
   "id": "35bb7a5a",
   "metadata": {},
   "outputs": [],
   "source": [
    "from gensim.models import KeyedVectors\n",
    "import gensim.downloader as api\n",
    "import numpy as np"
   ]
  },
  {
   "cell_type": "code",
   "execution_count": 2,
   "id": "4d0e70e4",
   "metadata": {},
   "outputs": [],
   "source": [
    "word_vectors = api.load(\"glove-wiki-gigaword-100\")"
   ]
  },
  {
   "cell_type": "markdown",
   "id": "a8777486",
   "metadata": {},
   "source": [
    "### Skip-Gram"
   ]
  },
  {
   "cell_type": "code",
   "execution_count": 41,
   "id": "c35b2ba6",
   "metadata": {},
   "outputs": [],
   "source": [
    "def skipgram(text, model, topn=3):\n",
    "    result = {}\n",
    "\n",
    "    for word in text.lower().split():\n",
    "        if word in model:\n",
    "            print(f\"Word: {word}\")\n",
    "            print(model.most_similar(word, topn=topn))\n",
    "\n",
    "            result[word] = model.most_similar(word, topn=topn)\n",
    "            \n",
    "    return result if result else None"
   ]
  },
  {
   "cell_type": "markdown",
   "id": "51e3c1d1",
   "metadata": {},
   "source": [
    "### Continuous Bag of Words"
   ]
  },
  {
   "cell_type": "code",
   "execution_count": 42,
   "id": "8f833c50",
   "metadata": {},
   "outputs": [],
   "source": [
    "def cbow(text, model, topn=1):\n",
    "    vectors = []\n",
    "\n",
    "    for word in text.lower().split():\n",
    "        if word in model:\n",
    "            vectors.append(model[word])\n",
    "    \n",
    "    if not vectors:\n",
    "        return None\n",
    "    \n",
    "    avg_vector = np.mean(vectors, axis=0)  \n",
    "\n",
    "    predictions = model.similar_by_vector(avg_vector, topn=topn)\n",
    "    print(predictions)\n",
    "    return predictions"
   ]
  },
  {
   "cell_type": "markdown",
   "id": "50830551",
   "metadata": {},
   "source": [
    "### Test"
   ]
  },
  {
   "cell_type": "markdown",
   "id": "5d5af28f",
   "metadata": {},
   "source": [
    "Royal"
   ]
  },
  {
   "cell_type": "code",
   "execution_count": 43,
   "id": "e779eaa2",
   "metadata": {},
   "outputs": [],
   "source": [
    "text1 = \"king queen throne castle royal\"\n"
   ]
  },
  {
   "cell_type": "code",
   "execution_count": 44,
   "id": "9a94da5c",
   "metadata": {},
   "outputs": [
    {
     "name": "stdout",
     "output_type": "stream",
     "text": [
      "Skip-gram results:\n",
      "Word: king\n",
      "[('prince', 0.7682328820228577), ('queen', 0.7507690787315369), ('son', 0.7020887136459351)]\n",
      "Word: queen\n",
      "[('princess', 0.7947245240211487), ('king', 0.7507691383361816), ('elizabeth', 0.7355712056159973)]\n",
      "Word: throne\n",
      "[('heir', 0.7213122248649597), ('king', 0.6919990181922913), ('emperor', 0.6828049421310425)]\n",
      "Word: castle\n",
      "[('manor', 0.7622005939483643), ('mansion', 0.6870322823524475), ('fortress', 0.6852313876152039)]\n",
      "Word: royal\n",
      "[('imperial', 0.7388318181037903), ('british', 0.7135697603225708), ('queen', 0.7065026164054871)]\n",
      "\n",
      "CBOW results:\n",
      "[('queen', 0.8731532096862793)]\n",
      "\n"
     ]
    }
   ],
   "source": [
    "print(\"Skip-gram results:\")\n",
    "skipgram(text1, word_vectors)\n",
    "\n",
    "print(\"\\nCBOW results:\")\n",
    "cbow(text1, word_vectors)\n",
    "\n",
    "print()"
   ]
  },
  {
   "cell_type": "markdown",
   "id": "6b277e5b",
   "metadata": {},
   "source": [
    "Emotions"
   ]
  },
  {
   "cell_type": "code",
   "execution_count": 45,
   "id": "80f20c64",
   "metadata": {},
   "outputs": [],
   "source": [
    "text2 = \"pain joy love sad angry\""
   ]
  },
  {
   "cell_type": "code",
   "execution_count": 46,
   "id": "fc80cc2e",
   "metadata": {},
   "outputs": [
    {
     "name": "stdout",
     "output_type": "stream",
     "text": [
      "Skip-gram results:\n",
      "Word: pain\n",
      "[('discomfort', 0.78193199634552), ('suffering', 0.774366021156311), ('pains', 0.752337634563446)]\n",
      "Word: joy\n",
      "[('sadness', 0.7273973226547241), ('delight', 0.708582878112793), ('sorrow', 0.7009647488594055)]\n",
      "Word: love\n",
      "[('me', 0.73828125), ('passion', 0.7352136373519897), ('my', 0.7327208518981934)]\n",
      "Word: sad\n",
      "[('sorry', 0.7547181248664856), ('awful', 0.7284239530563354), ('tragic', 0.7238599061965942)]\n",
      "Word: angry\n",
      "[('furious', 0.8143534660339355), ('outraged', 0.7746473550796509), ('enraged', 0.7717769742012024)]\n",
      "\n",
      "CBOW results:\n",
      "[('feeling', 0.8278279304504395)]\n",
      "\n"
     ]
    }
   ],
   "source": [
    "print(\"Skip-gram results:\")\n",
    "skipgram(text2, word_vectors)\n",
    "\n",
    "print(\"\\nCBOW results:\")\n",
    "cbow(text2, word_vectors)\n",
    "\n",
    "print()"
   ]
  },
  {
   "cell_type": "markdown",
   "id": "de65ce6e",
   "metadata": {},
   "source": [
    "Idiom"
   ]
  },
  {
   "cell_type": "code",
   "execution_count": 47,
   "id": "f769b131",
   "metadata": {},
   "outputs": [],
   "source": [
    "text3 = \"hit the road\"  "
   ]
  },
  {
   "cell_type": "code",
   "execution_count": 48,
   "id": "24a8d8e4",
   "metadata": {},
   "outputs": [
    {
     "name": "stdout",
     "output_type": "stream",
     "text": [
      "Skip-gram results:\n",
      "Word: hit\n",
      "[('hits', 0.8204647898674011), ('hitting', 0.804127037525177), ('struck', 0.8035117983818054)]\n",
      "Word: the\n",
      "[('this', 0.8573122620582581), ('part', 0.8507950305938721), ('one', 0.8503074645996094)]\n",
      "Word: road\n",
      "[('highway', 0.8092237710952759), ('route', 0.7784003019332886), ('roads', 0.7482966184616089)]\n",
      "\n",
      "CBOW results:\n",
      "[('the', 0.8342995047569275)]\n",
      "\n"
     ]
    }
   ],
   "source": [
    "print(\"Skip-gram results:\")\n",
    "skipgram(text3, word_vectors)\n",
    "\n",
    "print(\"\\nCBOW results:\")\n",
    "cbow(text3, word_vectors)\n",
    "\n",
    "print()"
   ]
  }
 ],
 "metadata": {
  "kernelspec": {
   "display_name": "NLP_venv",
   "language": "python",
   "name": "python3"
  },
  "language_info": {
   "codemirror_mode": {
    "name": "ipython",
    "version": 3
   },
   "file_extension": ".py",
   "mimetype": "text/x-python",
   "name": "python",
   "nbconvert_exporter": "python",
   "pygments_lexer": "ipython3",
   "version": "3.10.0"
  }
 },
 "nbformat": 4,
 "nbformat_minor": 5
}
